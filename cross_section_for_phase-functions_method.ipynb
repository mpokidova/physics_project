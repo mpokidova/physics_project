{
 "cells": [
  {
   "cell_type": "markdown",
   "metadata": {},
   "source": [
    "# Расчет (на основе результатов фазового анализа) дифференциальное сечение рассеяния в СЦИ сталкивающихся частиц в диапазоне энергий, заданных таблицей\n",
    "\n",
    "Решение задачи сводится к решению следующего уравнения\n",
    "$${dσ \\over dΩ} = {1 \\over k^2}|f|^2 + |g|^2 $$ \n",
    "где ***f*** - амплитуда рассеяния без переворота спина,\n",
    "***g*** - амплитуда рассеяния с переворотом спина\n",
    "\n",
    "Рассмотрим реакцию **K+p**\n",
    "\n",
    "## Расчет интегрального сечения упругого рассеяния"
   ]
  },
  {
   "cell_type": "code",
   "execution_count": 2,
   "metadata": {},
   "outputs": [],
   "source": [
    "# Задание библиотек, необходимых для расчетов\n",
    "import pandas as pd\n",
    "import numpy as np\n",
    "import math\n",
    "\n",
    "%matplotlib inline\n",
    "import matplotlib.pyplot as plt\n",
    "import seaborn as sns\n",
    "import scipy.integrate as integrate"
   ]
  },
  {
   "cell_type": "code",
   "execution_count": 3,
   "metadata": {},
   "outputs": [
    {
     "data": {
      "text/plain": [
       "array([ 2.500e+02,  0.000e+00,  0.000e+00, -2.587e-01,  7.210e-02,\n",
       "        0.000e+00,  0.000e+00, -4.118e-01,  2.164e-01])"
      ]
     },
     "execution_count": 3,
     "metadata": {},
     "output_type": "execute_result"
    }
   ],
   "source": [
    "# Ввод параметров рассеяния\n",
    "m = np.loadtxt('/Users/marinapokidova/mepyth.py')\n",
    "combo_list = m.flatten().tolist()\n",
    "m[25]"
   ]
  },
  {
   "cell_type": "code",
   "execution_count": 4,
   "metadata": {},
   "outputs": [],
   "source": [
    "# Задание необходимых параметров \n",
    "\n",
    "m_p = 938.27\n",
    "m_k = 493.66716\n",
    "\n",
    "fl_2 = np.zeros(151, dtype=complex)\n",
    "fl__2 = np.zeros(151, dtype=complex)\n",
    "fl_21 = np.zeros(151, dtype=complex)\n",
    "fl__21 = np.zeros(151, dtype=complex)\n",
    "\n",
    "sumg1 = np.zeros((181, 151), dtype=complex)\n",
    "sumf1 = np.zeros((181, 151), dtype=complex)\n",
    "sumg0 = np.zeros((181, 151), dtype=complex)\n",
    "sumf0 = np.zeros((181, 151), dtype=complex)\n",
    "\n",
    "x = np.zeros(181)\n",
    "Energy_ = [0] * 151\n",
    "\n",
    "intdiff = [0] * 151\n",
    "t = [0] * 181\n",
    "ppK = [0] * 151\n",
    "dif = np.zeros((181, 151))\n",
    "dif_cs = [0] * 181\n",
    "d = np.zeros((181, 151), dtype=float)"
   ]
  },
  {
   "cell_type": "code",
   "execution_count": 5,
   "metadata": {},
   "outputs": [
    {
     "name": "stdout",
     "output_type": "stream",
     "text": [
      "E, meV:50\n"
     ]
    }
   ],
   "source": [
    "# цикл по энергиям (0,150) и по углам (0,180)\n",
    "\n",
    "vvod = input(\"E, meV:\")\n",
    "Energy = int(vvod)\n",
    "\n",
    "for E in range(0, 1501, 10):\n",
    "    ppK[E // 10] = 0.001 * 0.001 * pow(m_p, 2) * E * (E + 2 * m_k) / (pow((m_k + m_p), 2) + 2 * m_p * E)  # pi++p\n",
    "    Energy_[E // 10] = E \n",
    "    for i in range(0, 181):\n",
    "        teta = math.radians(i)\n",
    "        x[i] = teta\n",
    "        p = [1, math.cos(teta),\n",
    "             (3. * math.cos(teta) * math.cos(teta) - 1.) / 2.,\n",
    "             (5. * math.cos(teta) * math.cos(teta) * math.cos(teta) - 3. * math.cos(teta)) / 2.,\n",
    "             (35. * math.cos(teta) * math.cos(teta) * math.cos(teta) * math.cos(teta) - 30. * math.cos(teta) * math.cos(teta) + 3.) / 8.,\n",
    "             (63. * math.cos(teta) * math.cos(teta) * math.cos(teta) * math.cos(teta) * math.cos(teta) - 70. * math.cos(teta) * math.cos(teta) * math.cos(teta) + 15. * math.cos(teta)) / 8.,\n",
    "             (231. * math.cos(teta) * math.cos(teta) * math.cos(teta) * math.cos(teta) * math.cos(teta) * math.cos(teta) - 315. * math.cos(teta) * math.cos(teta) * math.cos(teta) * math.cos(teta) + 105. * math.cos(teta) * math.cos(teta) - 5.) / 16.,\n",
    "             (429. * math.cos(teta) * math.cos(teta) * math.cos(teta) * math.cos(teta) * math.cos(teta) * math.cos(teta) * math.cos(teta) - 693. * math.cos(teta) * math.cos(teta) * math.cos(teta) * math.cos(teta) * math.cos(teta) + 315. * math.cos(teta) * math.cos(teta) * math.cos(teta) - 35. * math.cos(teta)) / 16.]\n",
    "\n",
    "        pr = [0.,\n",
    "              1.,\n",
    "              3 * math.cos(teta),\n",
    "              (15. * math.cos(teta) * math.cos(teta) - 3) / 2.,\n",
    "              (35. * 4. * math.cos(teta) * math.cos(teta) * math.cos(teta) - 60. * math.cos(teta)) / 8.,\n",
    "              (63. * 5. * math.cos(teta) * math.cos(teta) * math.cos(teta) * math.cos(teta) - 70. * 3. * math.cos(teta) * math.cos(teta) + 15.) / 8.,\n",
    "              (231. * 6. * math.cos(teta) * math.cos(teta) * math.cos(teta) * math.cos(teta) * math.cos(teta) - 315. * 4. * math.cos(teta) * math.cos(teta) * math.cos(teta) + 105. * 2. * math.cos(teta)) / 16.,\n",
    "              (429. * 7. * math.cos(teta) * math.cos(teta) * math.cos(teta) * math.cos(teta) * math.cos(teta) * math.cos(teta) - 693. * 5. * math.cos(teta) * math.cos(teta) * math.cos(teta) * math.cos(teta) + 315. * 3. * math.cos(teta) * math.cos(teta) - 35.) / 16.]\n",
    "\n",
    "        for L in range(0, 8):\n",
    "            fl_2[E // 10] = complex(combo_list[(E // 10) * 9 + 1 + 1359 * L], combo_list[(E // 10) * 9 + 2 + 1359 * L])\n",
    "            fl__2[E // 10] = complex(combo_list[(E // 10) * 9 + 3 + 1359 * L], combo_list[(E // 10) * 9 + 4 + 1359 * L])\n",
    "            sumf0[i][E // 10] = sumf0[i][E // 10] + (fl_2[E // 10] * L + (L + 1) * fl__2[E // 10]) * p[L]\n",
    "            sumg0[i][E // 10] = sumg0[i][E // 10] + (-fl_2[E // 10] + fl__2[E // 10]) * math.sin(teta) * pr[L]\n",
    "\n",
    "            fl_21[E // 10] = complex(combo_list[(E // 10) * 9 + 5 + 1359 * L], combo_list[(E // 10) * 9 + 6 + 1359 * L])\n",
    "            fl__21[E // 10] = complex(combo_list[(E // 10) * 9 + 7 + 1359 * L], combo_list[(E // 10) * 9 + 8 + 1359 * L])\n",
    "            sumf1[i][E // 10] = sumf1[i][E // 10] + (fl_21[E // 10] * L + (L + 1) * fl__21[E // 10]) * p[L]\n",
    "            sumg1[i][E // 10] = sumg1[i][E // 10] + (-fl_21[E // 10] + fl__21[E // 10]) * math.sin(teta) * pr[L]\n",
    "            if ppK[E // 10] != 0:\n",
    "                dif[i][E // 10] = 0.389 * (pow(abs(sumf1[i][E // 10]), 2) + pow(abs(sumg1[i][E // 10]), 2)) / (ppK[E // 10])  # pi++p\n",
    "        d[i][E // 10] = (dif[i][E // 10])*2 * 3.14 * math.sin(teta) \n",
    "\n",
    "        dif_cs[i] = dif[i][Energy // 10]\n",
    "        t[i] = d[i][E // 10]\n",
    "        \n",
    "        \n",
    "        intdiff[E // 10] += (dif[i][E // 10])*2 * 3.14 * math.sin(teta) * 0.0175\n"
   ]
  },
  {
   "cell_type": "code",
   "execution_count": 6,
   "metadata": {},
   "outputs": [
    {
     "data": {
      "text/plain": [
       "[<matplotlib.lines.Line2D at 0x7fa90012c6d0>]"
      ]
     },
     "execution_count": 6,
     "metadata": {},
     "output_type": "execute_result"
    },
    {
     "data": {
      "image/png": "[encoded data removed]",
      "text/plain": [
       "<Figure size 432x288 with 1 Axes>"
      ]
     },
     "metadata": {
      "needs_background": "light"
     },
     "output_type": "display_data"
    }
   ],
   "source": [
    "#График зависимости дифференциального сечения от угла (в радианах)\n",
    "plt.title(\"Differential cross section(teta)\")\n",
    "plt.xlabel(\"Teta c.m (rad)\")\n",
    "plt.ylabel(\"Differential cross section (mb)\")\n",
    "plt.plot(x,dif_cs)"
   ]
  },
  {
   "cell_type": "code",
   "execution_count": 7,
   "metadata": {},
   "outputs": [
    {
     "data": {
      "text/plain": [
       "<function matplotlib.pyplot.plot(*args, scalex=True, scaley=True, data=None, **kwargs)>"
      ]
     },
     "execution_count": 7,
     "metadata": {},
     "output_type": "execute_result"
    },
    {
     "data": {
      "image/png": "[encoded data removed]",
      "text/plain": [
       "<Figure size 432x288 with 1 Axes>"
      ]
     },
     "metadata": {
      "needs_background": "light"
     },
     "output_type": "display_data"
    }
   ],
   "source": [
    "#График зависимости интегрального сечения от энергии (в МэВ)\n",
    "plt.title(\"Integral cross section(E)\")\n",
    "plt.xlabel(\"E c.m (MeV)\")\n",
    "plt.ylabel(\"Integral cross section (mb)\")\n",
    "plt.plot(Energy_, intdiff)\n",
    "plt.plot"
   ]
  }
 ],
 "metadata": {
  "kernelspec": {
   "display_name": "Python 3",
   "language": "python",
   "name": "python3"
  },
  "language_info": {
   "codemirror_mode": {
    "name": "ipython",
    "version": 3
   },
   "file_extension": ".py",
   "mimetype": "text/x-python",
   "name": "python",
   "nbconvert_exporter": "python",
   "pygments_lexer": "ipython3",
   "version": "3.7.4"
  }
 },
 "nbformat": 4,
 "nbformat_minor": 2
}
